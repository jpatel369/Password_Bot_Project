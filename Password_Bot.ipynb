{
 "cells": [
  {
   "cell_type": "code",
   "execution_count": null,
   "metadata": {},
   "outputs": [],
   "source": [
    "from password_generator import PasswordGenerator\n",
    "\n",
    "user = input(\"Welcome user! Please enter a new  username here \")\n",
    "print(\"Hello\" + user + \"this is a password bot below now that you have made your username you will now be given a temporary password based on your own guidlines\")\n",
    "\n",
    "pwo = PasswordGenerator()\n",
    "pwo.minlen = int(input(\"Minimum length of password? \"))\n",
    "pwo.maxlen = int(input(\"Maximum length of password? \")) \n",
    "#pwo.minuchars = int(input(\"Minimum amounts of characters?\")) \n",
    "pwo.minlchars = int(input(\"Minimum length of characters?\")) \n",
    "pwo.minnumbers = int(input(\"Minimum amount of numbers in password? \"))\n",
    "pwo.maxnumbers = int(input(\"Maximum amount of numbers in password? \"))\n",
    "#pwo.minschars = 1 \n",
    "temp_pass = pwo.generate()\n",
    "print(\"Your temporary password has been created: \" + temp_pass)\n",
    "#print(\"Complete your account creation by creating a new password.\")\n",
    "\n",
    "while True:\n",
    "  user_login = input(\"Please enter your username: \")\n",
    "  user_temp_pass = input(\"Please enter your temporary password: \")\n",
    "  if user_login == user and user_temp_pass == temp_pass:\n",
    "   print()\n",
    "   break\n",
    "  else:\n",
    "    print(\"The information above does NOT match the records.\\n Please try again.\") \n",
    "\n",
    "while True:\n",
    "  user_new_pass = input(\"Create your new password\\n (Password must be at least 6 characters in length, at least one uppercase letter, and at least one digit): \")\n",
    "  digit = False\n",
    "  cap_letter = False\n",
    "  for char in user_new_pass:\n",
    "    if char.isdigit():\n",
    "      digit = True\n",
    "    elif char.isupper():\n",
    "      cap_letter = True\n",
    "  if digit == False or cap_letter == False or len(user_new_pass) < 6:\n",
    "    print(\"The password requirements were NOT fufilled correctly.\\n Please try again.\")\n",
    "  else:\n",
    "    print(\"Congradulations! Your account has been successfully created!\")\n",
    "    break"
   ]
  },
  {
   "cell_type": "code",
   "execution_count": null,
   "metadata": {},
   "outputs": [],
   "source": []
  },
  {
   "cell_type": "code",
   "execution_count": null,
   "metadata": {},
   "outputs": [],
   "source": []
  }
 ],
 "metadata": {
  "kernelspec": {
   "display_name": "Python 3",
   "language": "python",
   "name": "python3"
  },
  "language_info": {
   "codemirror_mode": {
    "name": "ipython",
    "version": 3
   },
   "file_extension": ".py",
   "mimetype": "text/x-python",
   "name": "python",
   "nbconvert_exporter": "python",
   "pygments_lexer": "ipython3",
   "version": "3.8.5"
  }
 },
 "nbformat": 4,
 "nbformat_minor": 4
}
